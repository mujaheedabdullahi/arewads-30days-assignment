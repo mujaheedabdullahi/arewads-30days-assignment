{
 "cells": [
  {
   "cell_type": "markdown",
   "metadata": {},
   "source": [
    "# Day 12 Assignment "
   ]
  },
  {
   "cell_type": "markdown",
   "metadata": {},
   "source": [
    "## Exercises: Level 1"
   ]
  },
  {
   "cell_type": "code",
   "execution_count": 11,
   "metadata": {},
   "outputs": [],
   "source": [
    "import random\n",
    "\n",
    "chars = 'abcdefghijklmnopqrstuvwxyz1234567890'\n",
    "char_list = []\n",
    "char_list[:0] = chars"
   ]
  },
  {
   "cell_type": "code",
   "execution_count": 14,
   "metadata": {},
   "outputs": [],
   "source": [
    "def random_user_id():\n",
    "    identity = ''\n",
    "    for _ in range(6):\n",
    "        identity += random.choice(char_list)\n",
    "    return identity\n",
    "\n",
    "\n",
    "def user_id_gen_by_user():\n",
    "    charsize = int(input('Enter Character Size: '))\n",
    "    charlimit = int(input('Enter how many user ids to generate: '))\n",
    "    for _ in range(charlimit):\n",
    "        identity = ''.join([random.choice(char_list) for _ in range(charsize)])\n",
    "        print(identity)\n",
    "\n",
    "\n",
    "def rgb_color_gen():\n",
    "    r = str(random.randint(0, 255))\n",
    "    g = str(random.randint(0, 255))\n",
    "    b = str(random.randint(0, 255))\n",
    "    return \"rgb(\" + r + \",\" + g + \",\" + b + \")\""
   ]
  },
  {
   "cell_type": "markdown",
   "metadata": {},
   "source": [
    "## Exercises: Level 2"
   ]
  },
  {
   "cell_type": "code",
   "execution_count": 18,
   "metadata": {},
   "outputs": [],
   "source": [
    "def list_of_hexa_colors(many=0):\n",
    "    if many == 0:\n",
    "        many = random.randint(1, 10)\n",
    "    hexas = \"1,2,3,4,5,6,7,8,9,0,a,b,c,d,e,f\".split(\",\")\n",
    "    hexCodes = []\n",
    "    for _ in range(many):\n",
    "        hexCodes.append(\"#\" + ''.join([random.choice(hexas) for _ in range(6)]))\n",
    "    return hexCodes\n",
    "\n",
    "\n",
    "def list_of_rgb_colors(many=0):\n",
    "    if many == 0:\n",
    "        many = random.randint(1, 10)\n",
    "    rgbs = []\n",
    "    for _ in range(many):\n",
    "        rgbs.append(rgb_color_gen())\n",
    "    return rgbs\n",
    "\n",
    "\n",
    "def generate_colors(type_of_col, many):\n",
    "    if type_of_col == 'hexa':\n",
    "        return list_of_hexa_colors(many)\n",
    "    elif type_of_col == 'rgb':\n",
    "        return list_of_rgb_colors(many)\n",
    "    else:\n",
    "        return \"Invalid Input\""
   ]
  },
  {
   "cell_type": "markdown",
   "metadata": {},
   "source": [
    "## Exercises: Level 3"
   ]
  },
  {
   "cell_type": "code",
   "execution_count": 20,
   "metadata": {},
   "outputs": [],
   "source": [
    "def shuffled_list(array):\n",
    "    return random.sample(array, len(array))\n",
    "\n",
    "\n",
    "def seven_random():\n",
    "    arr = []\n",
    "    length = -1\n",
    "    while length <= 7:\n",
    "        num = random.randint(0, 9)\n",
    "        if num not in arr:\n",
    "            arr.append(num)\n",
    "            length = len(arr)\n",
    "    return arr"
   ]
  }
 ],
 "metadata": {
  "kernelspec": {
   "display_name": ".venv",
   "language": "python",
   "name": "python3"
  },
  "language_info": {
   "codemirror_mode": {
    "name": "ipython",
    "version": 3
   },
   "file_extension": ".py",
   "mimetype": "text/x-python",
   "name": "python",
   "nbconvert_exporter": "python",
   "pygments_lexer": "ipython3",
   "version": "3.12.1"
  }
 },
 "nbformat": 4,
 "nbformat_minor": 2
}
