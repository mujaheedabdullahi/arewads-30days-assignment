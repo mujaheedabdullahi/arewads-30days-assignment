{
 "cells": [
  {
   "cell_type": "markdown",
   "metadata": {},
   "source": [
    "# Day 13 Assignment "
   ]
  },
  {
   "cell_type": "markdown",
   "metadata": {},
   "source": [
    "## Exercises: Level 1"
   ]
  },
  {
   "cell_type": "code",
   "execution_count": 4,
   "metadata": {},
   "outputs": [],
   "source": [
    "# Level 1\n",
    "\n",
    "def filter_list():\n",
    "    numbers = [-4, -3, -2, -1, 0, 2, 4, 6]\n",
    "    return [x for x in numbers if x <= 0]\n",
    "\n",
    "\n",
    "def flatten_list():\n",
    "    list_of_lists = [[[1, 2, 3]], [[4, 5, 6]], [[7, 8, 9]]]\n",
    "    return [x for sub in list_of_lists for sub2 in sub for x in sub2]\n",
    "\n",
    "\n",
    "def generate_list_of_tuples():\n",
    "    list_of_tuples = []\n",
    "    for i in range(11):\n",
    "        list_of_tuples.append((i, i ** 0, i ** 1, i ** 2, i ** 3, i ** 4, i ** 5))\n",
    "    return list_of_tuples\n",
    "\n",
    "\n",
    "def flatten_list_of_tuples():\n",
    "    countries = [[('Finland', 'Helsinki')], [('Sweden', 'Stockholm')], [('Norway', 'Oslo')]]\n",
    "    return [[sub2[0].upper(), sub2[0].upper()[:3], sub2[1].upper()] for sub in countries for sub2 in sub]\n",
    "\n",
    "\n",
    "def list_to_list_dict():\n",
    "    countries = [[('Finland', 'Helsinki')], [('Sweden', 'Stockholm')], [('Norway', 'Oslo')]]\n",
    "    countries = [[sub2[0].upper(), sub2[1].upper()] for sub in countries for sub2 in sub]\n",
    "    countries = [x for sub in countries for x in sub]\n",
    "    keys = [\"country\", \"city\"]\n",
    "    return [{keys[0]: countries[idx], keys[1]: countries[idx + 1]} for idx in range(0, len(countries), 2)]\n",
    "\n",
    "\n",
    "def concatenate_list():\n",
    "    names = [[('Asabeneh', 'Yetayeh')], [('David', 'Smith')], [('Donald', 'Trump')], [('Bill', 'Gates')]]\n",
    "    conc = [x for sub in names for sub2 in sub for x in sub2]\n",
    "    return [conc[i] + ' ' + conc[i + 1] for i in range(0, len(conc), 2)]\n",
    "\n",
    "\n",
    "slope = lambda x1, y1, x2, y2: (y2 - y1) / (x2 - x1)\n",
    "y_intercept = lambda x1, y1, x2, y2: y1 - slope(x1, y1, x2, y2) * x1"
   ]
  }
 ],
 "metadata": {
  "kernelspec": {
   "display_name": ".venv",
   "language": "python",
   "name": "python3"
  },
  "language_info": {
   "codemirror_mode": {
    "name": "ipython",
    "version": 3
   },
   "file_extension": ".py",
   "mimetype": "text/x-python",
   "name": "python",
   "nbconvert_exporter": "python",
   "pygments_lexer": "ipython3",
   "version": "3.12.1"
  }
 },
 "nbformat": 4,
 "nbformat_minor": 2
}
