{
 "cells": [
  {
   "cell_type": "markdown",
   "metadata": {},
   "source": [
    "# Day 14 Assignment "
   ]
  },
  {
   "cell_type": "markdown",
   "metadata": {},
   "source": [
    "## Exercises: Level 1"
   ]
  },
  {
   "cell_type": "code",
   "execution_count": 14,
   "metadata": {},
   "outputs": [
    {
     "name": "stdout",
     "output_type": "stream",
     "text": [
      "['Ahmad', 'Ibrahim']\n",
      "[1, 8, 27, 64, 125, 216, 343, 512, 729, 1000]\n",
      "3025\n",
      "Estonia\n",
      "Finland\n",
      "Sweden\n",
      "Denmark\n",
      "Norway\n",
      "Iceland\n",
      "Mujaheed\n",
      "Ahmad\n",
      "Fadil\n",
      "Ibrahim\n",
      "1\n",
      "2\n",
      "3\n",
      "4\n",
      "5\n",
      "6\n",
      "7\n",
      "8\n",
      "9\n",
      "10\n"
     ]
    }
   ],
   "source": [
    "countries = ['Estonia', 'Finland', 'Sweden', 'Denmark', 'Norway', 'Iceland']\n",
    "names = ['Mujaheed', 'Ahmad', 'Fadil', 'Ibrahim']\n",
    "numbers = [1, 2, 3, 4, 5, 6, 7, 8, 9, 10]\n",
    "\n",
    "def cube(num):\n",
    "    return num ** 3\n",
    "\n",
    "\n",
    "def vowel_name(name):\n",
    "    if name[0] in 'aeiouAEIOU':\n",
    "        return True\n",
    "    return False\n",
    "\n",
    "\n",
    "def sum_of_cubes(num1, num2):\n",
    "    return num1 + num2\n",
    "\n",
    "\n",
    "print(list(filter(vowel_name, names)))\n",
    "print(list(map(cube, numbers)))\n",
    "print(reduce(sum_of_cubes, list(map(cube, numbers))))\n",
    "\n",
    "for i in countries:\n",
    "    print(i)\n",
    "\n",
    "for i in names:\n",
    "    print(i)\n",
    "\n",
    "for i in numbers:\n",
    "    print(i)"
   ]
  },
  {
   "cell_type": "markdown",
   "metadata": {},
   "source": [
    "## Exercises: Level 2"
   ]
  },
  {
   "cell_type": "code",
   "execution_count": 26,
   "metadata": {},
   "outputs": [
    {
     "name": "stdout",
     "output_type": "stream",
     "text": [
      "Countries in uppercase: ['ESTONIA', 'FINLAND', 'SWEDEN', 'DENMARK', 'NORWAY', 'ICELAND', 'GREENLAND']\n",
      "Squared numbers: [1, 4, 9, 16, 25]\n",
      "Names in uppercase: ['MUJAHEED', 'AHMAD', 'IBRAHIM']\n",
      "Countries without 'land': ['Estonia', 'Sweden', 'Denmark', 'Norway']\n",
      "Countries not having exactly six characters: ['Estonia', 'Finland', 'Denmark', 'Iceland', 'Greenland']\n",
      "Countries containing six letters or more: ['Estonia', 'Finland', 'Sweden', 'Denmark', 'Norway', 'Iceland', 'Greenland']\n",
      "Countries not starting with 'E': ['Finland', 'Sweden', 'Denmark', 'Norway', 'Iceland', 'Greenland']\n",
      "Sum of numbers: 15\n",
      "Concatenated countries: Estonia, Finland, Sweden, Denmark, Norway, Iceland, Greenland\n",
      "List containing only strings: ['apple', 'banana', 'cherry']\n"
     ]
    }
   ],
   "source": [
    "from functools import reduce\n",
    "\n",
    "countries = ['Estonia', 'Finland', 'Sweden', 'Denmark', 'Norway', 'Iceland', 'Greenland']\n",
    "numbers = [1, 2, 3, 4, 5]\n",
    "names = ['mujaheed', 'ahmad', 'ibrahim']\n",
    "\n",
    "countries_upper = list(map(lambda x: x.upper(), countries))\n",
    "print(\"Countries in uppercase:\", countries_upper)\n",
    "\n",
    "\n",
    "squared_numbers = list(map(lambda x: x**2, numbers))\n",
    "print(\"Squared numbers:\", squared_numbers)\n",
    "\n",
    "\n",
    "names_upper = list(map(lambda x: x.upper(), names))\n",
    "print(\"Names in uppercase:\", names_upper)\n",
    "\n",
    "\n",
    "filtered_land = list(filter(lambda x: 'land' not in x.lower(), countries))\n",
    "print(\"Countries without 'land':\", filtered_land)\n",
    "\n",
    "\n",
    "filtered_six_chars = list(filter(lambda x: len(x) != 6, countries))\n",
    "print(\"Countries not having exactly six characters:\", filtered_six_chars)\n",
    "\n",
    "\n",
    "filtered_six_or_more = list(filter(lambda x: len(x) >= 6, countries))\n",
    "print(\"Countries containing six letters or more:\", filtered_six_or_more)\n",
    "\n",
    "\n",
    "filtered_start_with_E = list(filter(lambda x: not x.startswith('E'), countries))\n",
    "print(\"Countries not starting with 'E':\", filtered_start_with_E)\n",
    "\n",
    "\n",
    "sum_numbers = reduce(lambda x, y: x + y, numbers)\n",
    "print(\"Sum of numbers:\", sum_numbers)\n",
    "\n",
    "\n",
    "concat_countries = reduce(lambda x, y: x + ', ' + y, countries)\n",
    "print(\"Concatenated countries:\", concat_countries)\n",
    "\n",
    "\n",
    "def get_string_lists(lst):\n",
    "    return list(filter(lambda x: isinstance(x, str), lst))\n",
    "\n",
    "mixed_list = ['apple', 1, 'banana', 2, 'cherry', 3]\n",
    "string_list = get_string_lists(mixed_list)\n",
    "print(\"List containing only strings:\", string_list)\n"
   ]
  }
 ],
 "metadata": {
  "kernelspec": {
   "display_name": ".venv",
   "language": "python",
   "name": "python3"
  },
  "language_info": {
   "codemirror_mode": {
    "name": "ipython",
    "version": 3
   },
   "file_extension": ".py",
   "mimetype": "text/x-python",
   "name": "python",
   "nbconvert_exporter": "python",
   "pygments_lexer": "ipython3",
   "version": "3.12.1"
  }
 },
 "nbformat": 4,
 "nbformat_minor": 2
}
