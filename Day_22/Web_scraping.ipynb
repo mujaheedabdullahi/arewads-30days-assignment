{
 "cells": [
  {
   "cell_type": "markdown",
   "metadata": {},
   "source": [
    "# Day 15 Assignment "
   ]
  },
  {
   "cell_type": "code",
   "execution_count": 11,
   "metadata": {},
   "outputs": [
    {
     "name": "stdout",
     "output_type": "stream",
     "text": [
      "Requirement already satisfied: requests in /Users/mujaheedabdullahi/Desktop/Virtual Environment/.venv/lib/python3.12/site-packages (2.31.0)\n",
      "Requirement already satisfied: charset-normalizer<4,>=2 in /Users/mujaheedabdullahi/Desktop/Virtual Environment/.venv/lib/python3.12/site-packages (from requests) (3.3.2)\n",
      "Requirement already satisfied: idna<4,>=2.5 in /Users/mujaheedabdullahi/Desktop/Virtual Environment/.venv/lib/python3.12/site-packages (from requests) (3.6)\n",
      "Requirement already satisfied: urllib3<3,>=1.21.1 in /Users/mujaheedabdullahi/Desktop/Virtual Environment/.venv/lib/python3.12/site-packages (from requests) (2.1.0)\n",
      "Requirement already satisfied: certifi>=2017.4.17 in /Users/mujaheedabdullahi/Desktop/Virtual Environment/.venv/lib/python3.12/site-packages (from requests) (2023.11.17)\n",
      "Requirement already satisfied: beautifulsoup4 in /Users/mujaheedabdullahi/Desktop/Virtual Environment/.venv/lib/python3.12/site-packages (4.12.2)\n",
      "Requirement already satisfied: soupsieve>1.2 in /Users/mujaheedabdullahi/Desktop/Virtual Environment/.venv/lib/python3.12/site-packages (from beautifulsoup4) (2.5)\n"
     ]
    }
   ],
   "source": [
    "! pip install requests\n",
    "! pip install beautifulsoup4"
   ]
  },
  {
   "cell_type": "code",
   "execution_count": 12,
   "metadata": {},
   "outputs": [],
   "source": [
    "import requests\n",
    "from bs4 import BeautifulSoup"
   ]
  },
  {
   "cell_type": "code",
   "execution_count": 18,
   "metadata": {},
   "outputs": [],
   "source": [
    "import json\n",
    "\n",
    "import requests\n",
    "from bs4 import BeautifulSoup\n",
    "\n",
    "url1 = \"https://www.bu.edu/president/boston-university-facts-stats/\"\n",
    "response1 = requests.get(url1)\n",
    "content1 = response1.content\n",
    "soup1 = BeautifulSoup(content1, 'html.parser')\n",
    "tables = soup1.findAll('div', {\"class\": \"facts-wrapper\"})\n",
    "\n",
    "list_of_tables = []\n",
    "\n",
    "for i in tables:\n",
    "    keys = []\n",
    "    values = []\n",
    "    temp_dict = {}\n",
    "    i = str(i)\n",
    "    category = i[i.find('<h5>') + 4: i.find('</h5>')]\n",
    "    temp_dict['Category'] = category\n",
    "    all_key_start_indexes = [x+7 for x in range(len(i)) if i.startswith('\"text\">', x)]\n",
    "    all_key_end_indexes = [x for x in range(len(i)) if i.startswith('</p>', x)]\n",
    "\n",
    "    for l in range(len(all_key_start_indexes)):\n",
    "        keys.append(i[all_key_start_indexes[l]:all_key_end_indexes[l]])\n",
    "\n",
    "    all_values_start_indexes = []\n",
    "    for v in range(len(i)):\n",
    "        if i.startswith('value\">', v):\n",
    "            all_values_start_indexes.append(v+7)\n",
    "        if i.startswith('value-text\">', v):\n",
    "            all_values_start_indexes.append(v+12)\n",
    "    all_values_end_indexes = [x for x in range(len(i)) if i.startswith('</span>', x)]\n",
    "\n",
    "    for m in range(len(all_values_end_indexes)):\n",
    "        values.append(i[all_values_start_indexes[m]:all_values_end_indexes[m]])\n",
    "\n",
    "    for r in range(len(keys)):\n",
    "        temp_dict[keys[r]] = values[r]\n",
    "    list_of_tables.append(temp_dict)\n",
    "    \n",
    "# pprint(list_of_tables)\n",
    "with open(r\"22_Day_Web_scraping\\scrapped_exercise_1.json\", 'w') as fp:\n",
    "    json.dump(list_of_tables, fp)"
   ]
  }
 ],
 "metadata": {
  "kernelspec": {
   "display_name": ".venv",
   "language": "python",
   "name": "python3"
  },
  "language_info": {
   "codemirror_mode": {
    "name": "ipython",
    "version": 3
   },
   "file_extension": ".py",
   "mimetype": "text/x-python",
   "name": "python",
   "nbconvert_exporter": "python",
   "pygments_lexer": "ipython3",
   "version": "3.12.1"
  }
 },
 "nbformat": 4,
 "nbformat_minor": 2
}
