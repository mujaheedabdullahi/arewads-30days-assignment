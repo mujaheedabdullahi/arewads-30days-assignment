{
 "cells": [
  {
   "cell_type": "markdown",
   "metadata": {},
   "source": [
    "# Day 6 Assignment "
   ]
  },
  {
   "cell_type": "markdown",
   "metadata": {},
   "source": [
    "## Exercises: Level 1"
   ]
  },
  {
   "cell_type": "code",
   "execution_count": 4,
   "metadata": {},
   "outputs": [
    {
     "name": "stdout",
     "output_type": "stream",
     "text": [
      "4\n"
     ]
    }
   ],
   "source": [
    "empty = tuple()\n",
    "sisters = ('Hafsat', 'Aisha')\n",
    "brothers = ('Ahmad', 'Farouk')\n",
    "siblings = sisters + brothers\n",
    "print(len(siblings))\n",
    "family_members = siblings + ('Rabiu', 'Umar')"
   ]
  },
  {
   "cell_type": "markdown",
   "metadata": {},
   "source": [
    "## Exercises: Level 2"
   ]
  },
  {
   "cell_type": "code",
   "execution_count": 5,
   "metadata": {},
   "outputs": [
    {
     "name": "stdout",
     "output_type": "stream",
     "text": [
      "['Hafsat', 'Aisha', 'Ahmad', 'Farouk']\n",
      "Rabiu\n",
      "Umar\n",
      "['mango', 'orange', 'Cabbage', 'Milk', 'Leather']\n",
      "['mango', 'orange', 'Cabbage']\n",
      "['Cabbage', 'Milk', 'Leather']\n",
      "False\n",
      "True\n"
     ]
    }
   ],
   "source": [
    "*sibs, father, mother = family_members\n",
    "print(sibs)\n",
    "print(father)\n",
    "print(mother)\n",
    "\n",
    "fruits = ('mango', 'orange')\n",
    "vegetables = ('Cabbage', 'Cauliflower')\n",
    "animal_products = ('Milk', 'Leather')\n",
    "food_stuff_tp = fruits + vegetables + animal_products\n",
    "\n",
    "food_stuff_lt = list(food_stuff_tp)\n",
    "\n",
    "food_stuff_lt = food_stuff_lt[:len(food_stuff_lt) // 2] + food_stuff_lt[len(food_stuff_lt) // 2 + 1:]\n",
    "food_stuff_tp = tuple(food_stuff_lt)\n",
    "first_three = food_stuff_lt[:3]\n",
    "last_three = food_stuff_lt[len(food_stuff_lt) - 3:]\n",
    "print(food_stuff_lt)\n",
    "print(first_three)\n",
    "print(last_three)\n",
    "del food_stuff_tp\n",
    "\n",
    "nordic_countries = ('Denmark', 'Finland', 'Iceland', 'Norway', 'Sweden')\n",
    "print('Estonia' in nordic_countries)\n",
    "print('Iceland' in nordic_countries)"
   ]
  }
 ],
 "metadata": {
  "kernelspec": {
   "display_name": ".venv",
   "language": "python",
   "name": "python3"
  },
  "language_info": {
   "codemirror_mode": {
    "name": "ipython",
    "version": 3
   },
   "file_extension": ".py",
   "mimetype": "text/x-python",
   "name": "python",
   "nbconvert_exporter": "python",
   "pygments_lexer": "ipython3",
   "version": "3.12.1"
  }
 },
 "nbformat": 4,
 "nbformat_minor": 2
}
