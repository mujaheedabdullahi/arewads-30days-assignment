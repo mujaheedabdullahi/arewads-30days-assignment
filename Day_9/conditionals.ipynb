{
 "cells": [
  {
   "cell_type": "markdown",
   "metadata": {},
   "source": [
    "# Day 9 Assignment "
   ]
  },
  {
   "cell_type": "markdown",
   "metadata": {},
   "source": [
    "## Exercises: Level 1"
   ]
  },
  {
   "cell_type": "code",
   "execution_count": 4,
   "metadata": {},
   "outputs": [
    {
     "name": "stdout",
     "output_type": "stream",
     "text": [
      "You are old enough to drive.\n"
     ]
    }
   ],
   "source": [
    "# 1\n",
    "age = int(input('Enter age: '))\n",
    "if age >= 18:\n",
    "    print(\"You are old enough to drive.\")\n",
    "else:\n",
    "    print(\"You need to wait\", 18 - age, \"years.\")\n"
   ]
  },
  {
   "cell_type": "code",
   "execution_count": 7,
   "metadata": {},
   "outputs": [
    {
     "name": "stdout",
     "output_type": "stream",
     "text": [
      "You are 12 years older than me\n"
     ]
    }
   ],
   "source": [
    "# 2\n",
    "my_age = 18\n",
    "\n",
    "if age == my_age:\n",
    "    print(\"We are the same age\")\n",
    "elif age > my_age:\n",
    "    print(\"You are\", age - my_age, \"years older than me\")\n",
    "else:\n",
    "    print(\"I am\", my_age - age, \"years older than you\")\n"
   ]
  },
  {
   "cell_type": "code",
   "execution_count": 9,
   "metadata": {},
   "outputs": [
    {
     "name": "stdout",
     "output_type": "stream",
     "text": [
      "4 is greater than 3\n"
     ]
    }
   ],
   "source": [
    "# 3\n",
    "a = int(input(\"Enter number: \"))\n",
    "b = int(input(\"Enter number: \"))\n",
    "if a > b:\n",
    "    print(a, \"is greater than\", b)\n",
    "elif a < b:\n",
    "    print(a, \"is lesser than\", b)\n",
    "else:\n",
    "    print(\"Both numbers are equal\")"
   ]
  },
  {
   "cell_type": "markdown",
   "metadata": {},
   "source": [
    "## Exercises: Level 2"
   ]
  },
  {
   "cell_type": "code",
   "execution_count": 10,
   "metadata": {},
   "outputs": [
    {
     "name": "stdout",
     "output_type": "stream",
     "text": [
      "Grade: A\n"
     ]
    }
   ],
   "source": [
    "\n",
    "# 1\n",
    "score = int(input(\"Enter score: \"))\n",
    "\n",
    "grades = {}\n",
    "for i in range(90, 101):\n",
    "    grades[i] = 'A'\n",
    "for i in range(70, 90):\n",
    "    grades[i] = 'B'\n",
    "for i in range(60, 70):\n",
    "    grades[i] = 'C'\n",
    "for i in range(50, 60):\n",
    "    grades[i] = 'D'\n",
    "for i in range(0, 50):\n",
    "    grades[i] = 'F'\n",
    "\n",
    "print(\"Grade:\", grades[score])\n"
   ]
  },
  {
   "cell_type": "code",
   "execution_count": 11,
   "metadata": {},
   "outputs": [
    {
     "name": "stdout",
     "output_type": "stream",
     "text": [
      "Winter\n",
      "Summer\n"
     ]
    }
   ],
   "source": [
    "# 2\n",
    "month = input('Enter month: ').title()\n",
    "if month in [\"September\", \"October\", \"November\"]:\n",
    "    print(\"Autumn\")\n",
    "if month in [\"December\", \"January\", \"February\"]:\n",
    "    print(\"Winter\")\n",
    "if month in [\"March\", \"April\", \"May\"]:\n",
    "    print(\"Spring\")\n",
    "else:\n",
    "    print(\"Summer\")"
   ]
  },
  {
   "cell_type": "code",
   "execution_count": 12,
   "metadata": {},
   "outputs": [
    {
     "name": "stdout",
     "output_type": "stream",
     "text": [
      "That fruit already exists in the list\n",
      "['banana', 'orange', 'mango', 'lemon']\n"
     ]
    }
   ],
   "source": [
    "# 3\n",
    "fruits = ['banana', 'orange', 'mango', 'lemon']\n",
    "fruit = input('Enter fruit: ')\n",
    "print('That fruit already exists in the list' if fruit in fruits else fruits.append(fruit))\n",
    "print(fruits)"
   ]
  },
  {
   "cell_type": "markdown",
   "metadata": {},
   "source": [
    "## Exercises: Level 3"
   ]
  },
  {
   "cell_type": "code",
   "execution_count": 15,
   "metadata": {},
   "outputs": [
    {
     "name": "stdout",
     "output_type": "stream",
     "text": [
      "Node\n",
      "True\n",
      "Unknown Title\n",
      "Mujaheed Abdullahi lives in Ghana . He is married\n"
     ]
    }
   ],
   "source": [
    "person = {\n",
    "    'first_name': 'Mujaheed',\n",
    "    'last_name': 'Abdullahi',\n",
    "    'age': 280,\n",
    "    'country': 'Ghana',\n",
    "    'is_marred': True,\n",
    "    'skills': ['JavaScript', 'React', 'Node', 'MongoDB', 'Python'],\n",
    "    'address': {\n",
    "        'street': 'Space street',\n",
    "        'zipcode': '02210'\n",
    "    }\n",
    "}\n",
    "\n",
    "if person['skills']:\n",
    "    print(person['skills'][len(person['skills']) // 2])\n",
    "    print(\"Python\" in person['skills'])\n",
    "    if ['Javascript', 'React'] == person['skills']:\n",
    "        print('Front End Developer')\n",
    "    elif ['Node', 'MongoDB', 'React'] == person['skills']:\n",
    "        print('Full Stack Developer')\n",
    "    else:\n",
    "        print(\"Unknown Title\")\n",
    "\n",
    "if person['is_marred']:\n",
    "    print(person['first_name'], person['last_name'], \"lives in\", person['country'], \". He is married\")\n",
    "else:\n",
    "    print(person['first_name'], person['last_name'], \"lives in\", person['country'], \". He is not married\")"
   ]
  }
 ],
 "metadata": {
  "kernelspec": {
   "display_name": ".venv",
   "language": "python",
   "name": "python3"
  },
  "language_info": {
   "codemirror_mode": {
    "name": "ipython",
    "version": 3
   },
   "file_extension": ".py",
   "mimetype": "text/x-python",
   "name": "python",
   "nbconvert_exporter": "python",
   "pygments_lexer": "ipython3",
   "version": "3.12.1"
  }
 },
 "nbformat": 4,
 "nbformat_minor": 2
}
